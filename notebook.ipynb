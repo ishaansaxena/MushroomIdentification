{
 "cells": [
  {
   "cell_type": "code",
   "execution_count": 67,
   "metadata": {},
   "outputs": [],
   "source": [
    "import pandas as pd\n",
    "import numpy as np\n",
    "\n",
    "import project"
   ]
  },
  {
   "cell_type": "code",
   "execution_count": 68,
   "metadata": {},
   "outputs": [],
   "source": [
    "df = pd.read_csv(project.config['filename'])"
   ]
  },
  {
   "cell_type": "code",
   "execution_count": 69,
   "metadata": {},
   "outputs": [
    {
     "data": {
      "text/plain": [
       "(8124, 23)"
      ]
     },
     "execution_count": 69,
     "metadata": {},
     "output_type": "execute_result"
    }
   ],
   "source": [
    "# Encode Ordinal Variables\n",
    "columns = ['gill-spacing', 'gill-size', 'stalk-shape', 'ring-number', 'population', 'class']\n",
    "\n",
    "for column in columns:\n",
    "        df[column] = df[column].astype('category')\n",
    "\n",
    "columns = df.select_dtypes(['category']).columns\n",
    "df[columns] = df[columns].apply(lambda x: x.cat.codes)\n",
    "df.shape"
   ]
  },
  {
   "cell_type": "code",
   "execution_count": 70,
   "metadata": {},
   "outputs": [],
   "source": [
    "# Encoding Nominal Variables\n",
    "columns = ['gill-spacing', 'gill-size', 'stalk-shape', 'ring-number', 'population', 'class']\n",
    "\n",
    "for column in df:\n",
    "    if column not in columns:\n",
    "        dummies = pd.get_dummies(df.pop(column))\n",
    "        column_names = [column + \"_\" + x for x in dummies.columns]\n",
    "        dummies.columns = column_names\n",
    "        df = df.join(dummies)\n",
    "        \n",
    "#         df = df.join()"
   ]
  },
  {
   "cell_type": "code",
   "execution_count": 73,
   "metadata": {},
   "outputs": [
    {
     "data": {
      "text/plain": [
       "(8124, 108)"
      ]
     },
     "execution_count": 73,
     "metadata": {},
     "output_type": "execute_result"
    }
   ],
   "source": [
    "df.shape"
   ]
  },
  {
   "cell_type": "code",
   "execution_count": 74,
   "metadata": {},
   "outputs": [],
   "source": [
    "label = 'class'\n",
    "X = df.loc[:, df.columns != label]\n",
    "y = df[label].ravel()"
   ]
  },
  {
   "cell_type": "code",
   "execution_count": 75,
   "metadata": {},
   "outputs": [
    {
     "name": "stdout",
     "output_type": "stream",
     "text": [
      "(8124, 107)\n",
      "(8124,)\n"
     ]
    }
   ],
   "source": [
    "print(X.shape)\n",
    "print(y.shape)"
   ]
  },
  {
   "cell_type": "code",
   "execution_count": 77,
   "metadata": {},
   "outputs": [
    {
     "name": "stdout",
     "output_type": "stream",
     "text": [
      "Test Size: 0.99\n",
      "\tAccuracy: 0.517\n",
      "\tAUC: 0.500\n",
      "Test Size: 0.95\n",
      "\tAccuracy: 0.892\n",
      "\tAUC: 0.888\n",
      "Test Size: 0.90\n",
      "\tAccuracy: 0.891\n",
      "\tAUC: 0.887\n",
      "Test Size: 0.85\n",
      "\tAccuracy: 0.903\n",
      "\tAUC: 0.900\n",
      "Test Size: 0.80\n",
      "\tAccuracy: 0.910\n",
      "\tAUC: 0.907\n",
      "Test Size: 0.75\n",
      "\tAccuracy: 0.917\n",
      "\tAUC: 0.914\n",
      "Test Size: 0.50\n",
      "\tAccuracy: 0.953\n",
      "\tAUC: 0.952\n",
      "Test Size: 0.25\n",
      "\tAccuracy: 0.982\n",
      "\tAUC: 0.981\n"
     ]
    }
   ],
   "source": [
    "from sklearn.svm import SVC as svm\n",
    "from sklearn.model_selection import train_test_split\n",
    "from sklearn import metrics\n",
    "\n",
    "\n",
    "test_sizes = np.array([0.99, 0.95, 0.9, 0.85, 0.8, 0.75, 0.5, 0.25])\n",
    "accuracy = []\n",
    "auc = []\n",
    "\n",
    "for test_size in test_sizes:\n",
    "    print(\"Test Size: %.2f\" % (test_size))\n",
    "    Xt, Xv, yt, yv = train_test_split(\n",
    "        X, y,\n",
    "        test_size=test_size,\n",
    "#         random_state=np.random.randint(100)\n",
    "        random_state=42\n",
    "    )\n",
    "\n",
    "    m = svm(kernel='poly')\n",
    "    m.fit(Xt, yt)\n",
    "    y_pred = m.predict(Xv)\n",
    "    accuracy.append(metrics.accuracy_score(yv, y_pred))\n",
    "    auc.append(metrics.roc_auc_score(yv, y_pred))\n",
    "    print(\"\\tAccuracy: %.3f\\n\\tAUC: %.3f\" % (accuracy[-1], auc[-1]))\n"
   ]
  },
  {
   "cell_type": "code",
   "execution_count": 78,
   "metadata": {},
   "outputs": [
    {
     "name": "stdout",
     "output_type": "stream",
     "text": [
      "[0.5172199428074101, 0.8919409173360975, 0.8910010940919038, 0.9031277150304083, 0.9095384615384615, 0.9166256359757098, 0.9532250123092073, 0.9817823732151649]\n",
      "[0.5, 0.8881460752388959, 0.8874967185814235, 0.9000027204066773, 0.9065220745944343, 0.9144025589366749, 0.9520521973923137, 0.9813319878910192]\n"
     ]
    }
   ],
   "source": [
    "print(accuracy)\n",
    "print(auc)"
   ]
  },
  {
   "cell_type": "code",
   "execution_count": 79,
   "metadata": {},
   "outputs": [
    {
     "ename": "NameError",
     "evalue": "name 'plt' is not defined",
     "output_type": "error",
     "traceback": [
      "\u001b[0;31m---------------------------------------------------------------------------\u001b[0m",
      "\u001b[0;31mNameError\u001b[0m                                 Traceback (most recent call last)",
      "\u001b[0;32m<ipython-input-79-e8111dfbe652>\u001b[0m in \u001b[0;36m<module>\u001b[0;34m()\u001b[0m\n\u001b[1;32m      5\u001b[0m \u001b[0;34m\u001b[0m\u001b[0m\n\u001b[1;32m      6\u001b[0m \u001b[0mlines\u001b[0m \u001b[0;34m=\u001b[0m \u001b[0mdf\u001b[0m\u001b[0;34m.\u001b[0m\u001b[0mplot\u001b[0m\u001b[0;34m.\u001b[0m\u001b[0mline\u001b[0m\u001b[0;34m(\u001b[0m\u001b[0;34m)\u001b[0m\u001b[0;34m\u001b[0m\u001b[0m\n\u001b[0;32m----> 7\u001b[0;31m \u001b[0mplt\u001b[0m\u001b[0;34m.\u001b[0m\u001b[0mgca\u001b[0m\u001b[0;34m(\u001b[0m\u001b[0;34m)\u001b[0m\u001b[0;34m.\u001b[0m\u001b[0mset\u001b[0m\u001b[0;34m(\u001b[0m\u001b[0mxlabel\u001b[0m\u001b[0;34m=\u001b[0m\u001b[0;34m'Train Size'\u001b[0m\u001b[0;34m,\u001b[0m \u001b[0mylabel\u001b[0m\u001b[0;34m=\u001b[0m\u001b[0;34m'Metrics'\u001b[0m\u001b[0;34m)\u001b[0m\u001b[0;34m\u001b[0m\u001b[0m\n\u001b[0m\u001b[1;32m      8\u001b[0m \u001b[0mplt\u001b[0m\u001b[0;34m.\u001b[0m\u001b[0mshow\u001b[0m\u001b[0;34m(\u001b[0m\u001b[0;34m)\u001b[0m\u001b[0;34m\u001b[0m\u001b[0m\n",
      "\u001b[0;31mNameError\u001b[0m: name 'plt' is not defined"
     ]
    }
   ],
   "source": [
    "df = pd.DataFrame({\n",
    "    'accuracy': accuracy,\n",
    "    'auc': auc\n",
    "}, index = 1-test_sizes)\n",
    "\n",
    "lines = df.plot.line()\n",
    "plt.gca().set(xlabel='Train Size', ylabel='Metrics')\n",
    "plt.show()"
   ]
  },
  {
   "cell_type": "code",
   "execution_count": 23,
   "metadata": {},
   "outputs": [
    {
     "data": {
      "text/plain": [
       "<seaborn.axisgrid.FacetGrid at 0x11c0749b0>"
      ]
     },
     "execution_count": 23,
     "metadata": {},
     "output_type": "execute_result"
    },
    {
     "data": {
      "image/png": "[encoded data removed]",
      "text/plain": [
       "<matplotlib.figure.Figure at 0x11bfdb3c8>"
      ]
     },
     "metadata": {},
     "output_type": "display_data"
    }
   ],
   "source": [
    "g = sns.FacetGrid(D, row='bruises', col='odor')\n",
    "g.map(plt.hist, project.config['label'], bins=3)\n",
    "# Observations:\n",
    "# Odor = 1, 2, 6, 7, 8 -> Always poisonous\n",
    "# Odor = 5 -> Mostly edible\n",
    "# Odor = 0, 3 -> Always edibleYeah "
   ]
  },
  {
   "cell_type": "code",
   "execution_count": 80,
   "metadata": {},
   "outputs": [],
   "source": [
    "def linreg(X, y):\n",
    "    return np.dot(np.linalg.pinv(X), y)\n",
    "\n",
    "def gss(F, X, y):\n",
    "    # Your code goes here\n",
    "    (n, d) = X.shape\n",
    "    S = []\n",
    "    J = [i for i in range(0,d)] # no of features\n",
    "    for f in range(1,F+1):\n",
    "        # get list of features to iterate on.\n",
    "        f_iter = []\n",
    "        for t in J:\n",
    "            if not (t in S):\n",
    "                f_iter.append(t)\n",
    "        best_j = None\n",
    "        min_error = float(\"inf\")\n",
    "        for j in f_iter:\n",
    "            # get X_ = x_{t,sUj}\n",
    "            S_t = [i for i in S]\n",
    "            S_t.append(j)\n",
    "            X_ = X[:,S_t]\n",
    "            theta_s_u_j = linreg(X_,y)\n",
    "\n",
    "            # use theta_s_u_j to get training error\n",
    "\n",
    "            error = (0.5) * np.sum((y - np.dot(X_,theta_s_u_j))** 2)\n",
    "            if error < min_error:\n",
    "                min_error = error\n",
    "                best_j = j\n",
    "\n",
    "        S.append(best_j)\n",
    "\n",
    "    #thetaS\n",
    "    X_ = X[:,S]\n",
    "    thetaS = linreg(X_,y)\n",
    "    return (np.asarray(S).reshape(F,1), thetaS)"
   ]
  },
  {
   "cell_type": "code",
   "execution_count": 81,
   "metadata": {},
   "outputs": [],
   "source": [
    "(n, d) = X.shape\n",
    "f_set, f_weight = gss(d, X.values, y)\n",
    "f_weight = f_weight.reshape((d, 1))"
   ]
  },
  {
   "cell_type": "code",
   "execution_count": 82,
   "metadata": {},
   "outputs": [],
   "source": [
    "X_ = X.values\n",
    "h = np.zeros(n)\n",
    "for f in range(d):\n",
    "    h += X_[:, f_set[f][0]] * f_weight[f][0]"
   ]
  },
  {
   "cell_type": "code",
   "execution_count": 83,
   "metadata": {},
   "outputs": [
    {
     "data": {
      "text/plain": [
       "0"
      ]
     },
     "execution_count": 83,
     "metadata": {},
     "output_type": "execute_result"
    }
   ],
   "source": [
    "y_pred = (h > 0.5).astype('int8')\n",
    "np.sum((y_pred != y).astype('int8'))"
   ]
  },
  {
   "cell_type": "code",
   "execution_count": null,
   "metadata": {},
   "outputs": [],
   "source": []
  }
 ],
 "metadata": {
  "kernelspec": {
   "display_name": "Python 3",
   "language": "python",
   "name": "python3"
  },
  "language_info": {
   "codemirror_mode": {
    "name": "ipython",
    "version": 3
   },
   "file_extension": ".py",
   "mimetype": "text/x-python",
   "name": "python",
   "nbconvert_exporter": "python",
   "pygments_lexer": "ipython3",
   "version": "3.6.4"
  }
 },
 "nbformat": 4,
 "nbformat_minor": 2
}
